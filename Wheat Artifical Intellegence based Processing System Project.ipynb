{
  "nbformat": 4,
  "nbformat_minor": 0,
  "metadata": {
    "colab": {
      "provenance": [],
      "authorship_tag": "ABX9TyP36zSpf0SSoMHXPB9btqY1",
      "include_colab_link": true
    },
    "kernelspec": {
      "name": "python3",
      "display_name": "Python 3"
    },
    "language_info": {
      "name": "python"
    }
  },
  "cells": [
    {
      "cell_type": "markdown",
      "metadata": {
        "id": "view-in-github",
        "colab_type": "text"
      },
      "source": [
        "<a href=\"https://colab.research.google.com/github/AhmadFarazKha/Data-Distribution-Machine-Learning-Projects/blob/main/Wheat%20Artifical%20Intellegence%20based%20Processing%20System%20Project.ipynb\" target=\"_parent\"><img src=\"https://colab.research.google.com/assets/colab-badge.svg\" alt=\"Open In Colab\"/></a>"
      ]
    },
    {
      "cell_type": "code",
      "execution_count": null,
      "metadata": {
        "id": "0RQJydD7t6Q4"
      },
      "outputs": [],
      "source": []
    },
    {
      "cell_type": "markdown",
      "source": [
        "**Wheat Process Artifical Intellegence Based Project !**\n",
        "\n",
        "---\n",
        "\n"
      ],
      "metadata": {
        "id": "8IdCETNxuB2I"
      }
    },
    {
      "cell_type": "code",
      "source": [
        "# prompt: Wheat Process Artifical Intellegence Based Project like separating difference components of wheat  in python place cvs data file inside code random!\n",
        "\n",
        "import pandas as pd\n",
        "import numpy as np\n",
        "from sklearn.model_selection import train_test_split\n",
        "from sklearn.ensemble import RandomForestClassifier\n",
        "from sklearn.metrics import accuracy_score, classification_report\n",
        "\n",
        "# Create a sample dataset (replace with your actual data)\n",
        "np.random.seed(42)\n",
        "n_samples = 100\n",
        "data = {\n",
        "    'grain_size': np.random.randint(1, 5, n_samples),\n",
        "    'color_intensity': np.random.randint(1, 5, n_samples),\n",
        "    'protein_content': np.random.uniform(10, 15, n_samples),\n",
        "    'moisture_content': np.random.uniform(10, 14, n_samples),\n",
        "    'component': np.random.choice(['bran', 'germ', 'endosperm'], n_samples)\n",
        "}\n",
        "\n",
        "df = pd.DataFrame(data)\n",
        "\n",
        "# Save the DataFrame to a CSV file (optional)\n",
        "# df.to_csv('wheat_components.csv', index=False)\n",
        "\n",
        "# --- Machine Learning Model ---\n",
        "\n",
        "# Prepare the data\n",
        "X = df.drop('component', axis=1)\n",
        "y = df['component']\n",
        "\n",
        "# Split data into training and testing sets\n",
        "X_train, X_test, y_train, y_test = train_test_split(X, y, test_size=0.2, random_state=42)\n",
        "\n",
        "# Initialize and train a Random Forest Classifier\n",
        "model = RandomForestClassifier(n_estimators=100, random_state=42)\n",
        "model.fit(X_train, y_train)\n",
        "\n",
        "# Make predictions\n",
        "y_pred = model.predict(X_test)\n",
        "\n",
        "# Evaluate the model\n",
        "accuracy = accuracy_score(y_test, y_pred)\n",
        "report = classification_report(y_test, y_pred)\n",
        "\n",
        "print(f\"Accuracy: {accuracy}\")\n",
        "print(f\"Classification Report:\\n{report}\")\n",
        "\n",
        "# Example prediction\n",
        "new_wheat = pd.DataFrame({'grain_size': [3], 'color_intensity': [2], 'protein_content': [12], 'moisture_content': [12]})\n",
        "predicted_component = model.predict(new_wheat)\n",
        "print(f\"\\nPredicted component: {predicted_component[0]}\")"
      ],
      "metadata": {
        "colab": {
          "base_uri": "https://localhost:8080/"
        },
        "id": "mAmxZwQ3uXSj",
        "outputId": "3489599a-91cc-4f3b-8163-03c6cb2396ce"
      },
      "execution_count": 4,
      "outputs": [
        {
          "output_type": "stream",
          "name": "stdout",
          "text": [
            "Accuracy: 0.2\n",
            "Classification Report:\n",
            "              precision    recall  f1-score   support\n",
            "\n",
            "        bran       0.43      0.33      0.38         9\n",
            "   endosperm       0.00      0.00      0.00         6\n",
            "        germ       0.11      0.20      0.14         5\n",
            "\n",
            "    accuracy                           0.20        20\n",
            "   macro avg       0.18      0.18      0.17        20\n",
            "weighted avg       0.22      0.20      0.20        20\n",
            "\n",
            "\n",
            "Predicted component: germ\n"
          ]
        }
      ]
    }
  ]
}